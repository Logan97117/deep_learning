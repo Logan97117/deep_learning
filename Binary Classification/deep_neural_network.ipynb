{
 "cells": [
  {
   "cell_type": "markdown",
   "metadata": {
    "collapsed": true
   },
   "source": [
    "Deep Neural Network implemented from scratch on Image recognition dataset"
   ]
  },
  {
   "cell_type": "code",
   "execution_count": 1,
   "metadata": {
    "collapsed": false
   },
   "outputs": [],
   "source": [
    "#import libraries\n",
    "import numpy as np\n",
    "import pandas as pd\n",
    "import matplotlib.pyplot as plt\n",
    "import h5py\n",
    "from deep_neural_network import DeepNN"
   ]
  },
  {
   "cell_type": "markdown",
   "metadata": {},
   "source": [
    "Images dataset of cats, our ANN will learn how to identify cats."
   ]
  },
  {
   "cell_type": "code",
   "execution_count": 2,
   "metadata": {
    "collapsed": false
   },
   "outputs": [],
   "source": [
    "train_data = h5py.File('train_catvnoncat.h5')\n",
    "valid_data = h5py.File('test_catvnoncat.h5')"
   ]
  },
  {
   "cell_type": "markdown",
   "metadata": {},
   "source": [
    "Three channels are there in one image of size 64 by 64 pixels, R, G and B. Below is the Red channel values for all 64 * 64 pixels for first image"
   ]
  },
  {
   "cell_type": "code",
   "execution_count": 3,
   "metadata": {
    "collapsed": false,
    "scrolled": false
   },
   "outputs": [
    {
     "data": {
      "text/plain": [
       "array([[17, 22, 25, ...,  1,  1,  1],\n",
       "       [25, 28, 30, ...,  1,  1,  2],\n",
       "       [32, 34, 35, ...,  1,  0,  1],\n",
       "       ...,\n",
       "       [ 0,  0,  0, ...,  0,  0,  0],\n",
       "       [ 0,  0,  0, ...,  0,  0,  0],\n",
       "       [ 0,  0,  0, ...,  0,  0,  0]], dtype=uint8)"
      ]
     },
     "execution_count": 3,
     "metadata": {},
     "output_type": "execute_result"
    }
   ],
   "source": [
    "train_data['train_set_x'][0][:,:,0]"
   ]
  },
  {
   "cell_type": "markdown",
   "metadata": {},
   "source": [
    "We will represent each image as a flattened vector of size 64 by 64 by 3"
   ]
  },
  {
   "cell_type": "code",
   "execution_count": 4,
   "metadata": {
    "collapsed": false
   },
   "outputs": [],
   "source": [
    "train_features = (1/255) * train_data['train_set_x'][:].reshape(len(list(train_data['train_set_x'])),-1)\n",
    "valid_features = (1/255) * valid_data['test_set_x'][:].reshape(len(list(valid_data['test_set_x'])),-1)\n",
    "train_targets = train_data['train_set_y'][:].reshape(len(list(train_data['train_set_y'])),1).astype(float)\n",
    "valid_targets = valid_data['test_set_y'][:].reshape(len(list(valid_data['test_set_y'])),1).astype(float)\n"
   ]
  },
  {
   "cell_type": "code",
   "execution_count": 5,
   "metadata": {
    "collapsed": false
   },
   "outputs": [],
   "source": [
    "#Normalize the input features, set them to zero mean and unit variance\n",
    "#We will use the same transformation for the validation set\n",
    "means = np.mean(train_features,axis=0).reshape(1,train_features.shape[1])\n",
    "std_dev = np.std(train_features,axis = 0).reshape(1,train_features.shape[1])\n",
    "train_features = train_features - means\n",
    "train_features = train_features/std_dev\n",
    "valid_features = valid_features - means\n",
    "valid_features = valid_features/std_dev"
   ]
  },
  {
   "cell_type": "code",
   "execution_count": 6,
   "metadata": {
    "collapsed": false
   },
   "outputs": [
    {
     "data": {
      "text/plain": [
       "array([ 1.34624769,  1.30374977,  1.30231398, ..., -0.04323738,\n",
       "       -0.11865024,  0.1694557 ])"
      ]
     },
     "execution_count": 6,
     "metadata": {},
     "output_type": "execute_result"
    }
   ],
   "source": [
    "train_features[1]"
   ]
  },
  {
   "cell_type": "code",
   "execution_count": 7,
   "metadata": {
    "collapsed": false,
    "scrolled": false
   },
   "outputs": [
    {
     "name": "stdout",
     "output_type": "stream",
     "text": [
      "Training set shape:(209, 12288)\n",
      "Validation set shape:(50, 12288)\n",
      "Train targets shape :(209, 1)\n",
      "Validation set targets shape: (50, 1)\n"
     ]
    }
   ],
   "source": [
    "print(\"Training set shape:\" + str(train_features.shape))\n",
    "print(\"Validation set shape:\" + str(valid_features.shape))\n",
    "print(\"Train targets shape :\" + str(train_targets.shape))\n",
    "print(\"Validation set targets shape: \"  + str(valid_targets.shape))"
   ]
  },
  {
   "cell_type": "code",
   "execution_count": 9,
   "metadata": {
    "collapsed": false,
    "scrolled": true
   },
   "outputs": [
    {
     "name": "stdout",
     "output_type": "stream",
     "text": [
      "Epoch 100\n",
      "Training Cost: 0.5456114769600717------------Validation cost: 0.7942200343130573\n",
      "Training Accuracy: 0.69377990430622\n",
      "Validation Accuracy: 0.42\n",
      "-----------------------------------------------------------\n",
      "Epoch 200\n",
      "Training Cost: 0.44562309157310126------------Validation cost: 0.8772736149668299\n",
      "Training Accuracy: 0.7942583732057417\n",
      "Validation Accuracy: 0.46\n",
      "-----------------------------------------------------------\n",
      "Epoch 300\n",
      "Training Cost: 0.3364221048182857------------Validation cost: 1.0234457307087708\n",
      "Training Accuracy: 0.8660287081339713\n",
      "Validation Accuracy: 0.56\n",
      "-----------------------------------------------------------\n",
      "Epoch 400\n",
      "Training Cost: 0.239865780041478------------Validation cost: 1.147733065470214\n",
      "Training Accuracy: 0.9186602870813397\n",
      "Validation Accuracy: 0.54\n",
      "-----------------------------------------------------------\n",
      "Epoch 500\n",
      "Training Cost: 0.16661191044882223------------Validation cost: 1.2689345587074063\n",
      "Training Accuracy: 0.9425837320574163\n",
      "Validation Accuracy: 0.54\n",
      "-----------------------------------------------------------\n",
      "Epoch 600\n",
      "Training Cost: 0.11991705891848049------------Validation cost: 1.3826412125389644\n",
      "Training Accuracy: 0.9569377990430622\n",
      "Validation Accuracy: 0.58\n",
      "-----------------------------------------------------------\n",
      "Epoch 700\n",
      "Training Cost: 0.09187267223310303------------Validation cost: 1.4639798665493269\n",
      "Training Accuracy: 0.9760765550239234\n",
      "Validation Accuracy: 0.58\n",
      "-----------------------------------------------------------\n",
      "Epoch 800\n",
      "Training Cost: 0.07530842639955097------------Validation cost: 1.5249699313750245\n",
      "Training Accuracy: 0.9808612440191388\n",
      "Validation Accuracy: 0.58\n",
      "-----------------------------------------------------------\n",
      "Epoch 900\n",
      "Training Cost: 0.06481585593301702------------Validation cost: 1.5799535598131602\n",
      "Training Accuracy: 0.9808612440191388\n",
      "Validation Accuracy: 0.58\n",
      "-----------------------------------------------------------\n",
      "Epoch 1000\n",
      "Training Cost: 0.05776689531293088------------Validation cost: 1.6355994635363047\n",
      "Training Accuracy: 0.9808612440191388\n",
      "Validation Accuracy: 0.56\n",
      "-----------------------------------------------------------\n",
      "Epoch 1100\n",
      "Training Cost: 0.052678096265501066------------Validation cost: 1.6880228993551425\n",
      "Training Accuracy: 0.9808612440191388\n",
      "Validation Accuracy: 0.56\n",
      "-----------------------------------------------------------\n",
      "Epoch 1200\n",
      "Training Cost: 0.048266299280607404------------Validation cost: 1.7340396655582055\n",
      "Training Accuracy: 0.9712918660287081\n",
      "Validation Accuracy: 0.56\n",
      "-----------------------------------------------------------\n",
      "Epoch 1300\n",
      "Training Cost: 0.04302337543023897------------Validation cost: 1.7480080270220382\n",
      "Training Accuracy: 0.9808612440191388\n",
      "Validation Accuracy: 0.56\n",
      "-----------------------------------------------------------\n",
      "Epoch 1400\n",
      "Training Cost: 0.040086375887871485------------Validation cost: 1.7808916566447681\n",
      "Training Accuracy: 0.9808612440191388\n",
      "Validation Accuracy: 0.56\n",
      "-----------------------------------------------------------\n",
      "Epoch 1500\n",
      "Training Cost: 0.0355854620626054------------Validation cost: 1.7928573312776201\n",
      "Training Accuracy: 0.9808612440191388\n",
      "Validation Accuracy: 0.58\n",
      "-----------------------------------------------------------\n",
      "Epoch 1600\n",
      "Training Cost: 0.03139141018368387------------Validation cost: 1.8000659040697988\n",
      "Training Accuracy: 0.9808612440191388\n",
      "Validation Accuracy: 0.58\n",
      "-----------------------------------------------------------\n",
      "Epoch 1700\n",
      "Training Cost: 0.028283586983976927------------Validation cost: 1.818765409924947\n",
      "Training Accuracy: 0.9808612440191388\n",
      "Validation Accuracy: 0.58\n",
      "-----------------------------------------------------------\n",
      "Epoch 1800\n",
      "Training Cost: 0.0262402778284345------------Validation cost: 1.838323136177505\n",
      "Training Accuracy: 0.9808612440191388\n",
      "Validation Accuracy: 0.58\n",
      "-----------------------------------------------------------\n",
      "Epoch 1900\n",
      "Training Cost: 0.02447309494024733------------Validation cost: 1.8560100139437004\n",
      "Training Accuracy: 0.9808612440191388\n",
      "Validation Accuracy: 0.6\n",
      "-----------------------------------------------------------\n",
      "Epoch 2000\n",
      "Training Cost: 0.023065248070178745------------Validation cost: 1.8767073682228033\n",
      "Training Accuracy: 0.9808612440191388\n",
      "Validation Accuracy: 0.6\n",
      "-----------------------------------------------------------\n",
      "Epoch 2100\n",
      "Training Cost: 0.02186979525981793------------Validation cost: 1.8938346685745149\n",
      "Training Accuracy: 0.9808612440191388\n",
      "Validation Accuracy: 0.62\n",
      "-----------------------------------------------------------\n",
      "Epoch 2200\n",
      "Training Cost: 0.020872853036927055------------Validation cost: 1.9081021492941972\n",
      "Training Accuracy: 0.9808612440191388\n",
      "Validation Accuracy: 0.62\n",
      "-----------------------------------------------------------\n",
      "Epoch 2300\n",
      "Training Cost: 0.02001199542786091------------Validation cost: 1.9194653190917572\n",
      "Training Accuracy: 0.9808612440191388\n",
      "Validation Accuracy: 0.64\n",
      "-----------------------------------------------------------\n",
      "Epoch 2400\n",
      "Training Cost: 0.019333908465373712------------Validation cost: 1.9355472644403673\n",
      "Training Accuracy: 0.9808612440191388\n",
      "Validation Accuracy: 0.62\n",
      "-----------------------------------------------------------\n",
      "Epoch 2500\n",
      "Training Cost: 0.018729900961210466------------Validation cost: 1.9468689835615325\n",
      "Training Accuracy: 0.9808612440191388\n",
      "Validation Accuracy: 0.64\n",
      "-----------------------------------------------------------\n"
     ]
    }
   ],
   "source": [
    "dnn = DeepNN(num_layers=3,units = [12288,7,1],activation_fns=['relu','sigmoid'])\n",
    "result_dict = dnn.train_NN(train_features,train_targets,2500,0.0075,valid_features,valid_targets)\n",
    "#np.divide(train_targets,np.log(dnn.forward_prop(train_features)[0])) - np.divide(1-train_targets,np.log(1-dnn.forward_prop(train_features)[0]))"
   ]
  },
  {
   "cell_type": "markdown",
   "metadata": {},
   "source": [
    "The training is a bit haphazard but training accuracy gets to 98% and validation accuracy to 64%, lets make the network more deep"
   ]
  },
  {
   "cell_type": "code",
   "execution_count": 10,
   "metadata": {
    "collapsed": false
   },
   "outputs": [
    {
     "data": {
      "image/png": "[encoded data removed]",
      "text/plain": [
       "<Figure size 720x360 with 1 Axes>"
      ]
     },
     "metadata": {},
     "output_type": "display_data"
    }
   ],
   "source": [
    "#plotting costs vs iterations\n",
    "plt.figure(figsize=(10,5))\n",
    "plt.plot(range(2500),result_dict['Training cost'])\n",
    "plt.xlabel(\"Iterations\")\n",
    "plt.ylabel(\"Training Cost\")\n",
    "plt.show()"
   ]
  },
  {
   "cell_type": "code",
   "execution_count": 8,
   "metadata": {
    "collapsed": false
   },
   "outputs": [
    {
     "name": "stdout",
     "output_type": "stream",
     "text": [
      "Epoch 100\n",
      "Training Cost: 0.6531180124847605------------Validation cost: 0.7635565598983797\n",
      "Training Accuracy: 0.6555023923444976\n",
      "Validation Accuracy: 0.34\n",
      "-----------------------------------------------------------\n",
      "Epoch 200\n",
      "Training Cost: 0.6341266111565022------------Validation cost: 0.8303536172965406\n",
      "Training Accuracy: 0.6555023923444976\n",
      "Validation Accuracy: 0.34\n",
      "-----------------------------------------------------------\n",
      "Epoch 300\n",
      "Training Cost: 0.6195264824335073------------Validation cost: 0.8323022371633562\n",
      "Training Accuracy: 0.6555023923444976\n",
      "Validation Accuracy: 0.34\n",
      "-----------------------------------------------------------\n",
      "Epoch 400\n",
      "Training Cost: 0.5993132875516082------------Validation cost: 0.8301408853485218\n",
      "Training Accuracy: 0.6555023923444976\n",
      "Validation Accuracy: 0.34\n",
      "-----------------------------------------------------------\n",
      "Epoch 500\n",
      "Training Cost: 0.5676614461004512------------Validation cost: 0.8474467918619442\n",
      "Training Accuracy: 0.6555023923444976\n",
      "Validation Accuracy: 0.34\n",
      "-----------------------------------------------------------\n",
      "Epoch 600\n",
      "Training Cost: 0.5219619403199812------------Validation cost: 0.8844454721226843\n",
      "Training Accuracy: 0.6555023923444976\n",
      "Validation Accuracy: 0.34\n",
      "-----------------------------------------------------------\n",
      "Epoch 700\n",
      "Training Cost: 0.4539946878114074------------Validation cost: 0.8714416310008364\n",
      "Training Accuracy: 0.8133971291866029\n",
      "Validation Accuracy: 0.58\n",
      "-----------------------------------------------------------\n",
      "Epoch 800\n",
      "Training Cost: 0.35175928352767477------------Validation cost: 0.8554024265502471\n",
      "Training Accuracy: 0.8516746411483254\n",
      "Validation Accuracy: 0.64\n",
      "-----------------------------------------------------------\n",
      "Epoch 900\n",
      "Training Cost: 0.24855888332580617------------Validation cost: 0.9417916688130389\n",
      "Training Accuracy: 0.9186602870813397\n",
      "Validation Accuracy: 0.66\n",
      "-----------------------------------------------------------\n",
      "Epoch 1000\n",
      "Training Cost: 0.16693470427766424------------Validation cost: 1.0853803473815031\n",
      "Training Accuracy: 0.9473684210526315\n",
      "Validation Accuracy: 0.68\n",
      "-----------------------------------------------------------\n",
      "Epoch 1100\n",
      "Training Cost: 0.11519778169077213------------Validation cost: 1.2839086150484296\n",
      "Training Accuracy: 0.9617224880382775\n",
      "Validation Accuracy: 0.64\n",
      "-----------------------------------------------------------\n",
      "Epoch 1200\n",
      "Training Cost: 0.06928916466357526------------Validation cost: 1.48880610732124\n",
      "Training Accuracy: 0.9808612440191388\n",
      "Validation Accuracy: 0.68\n",
      "-----------------------------------------------------------\n",
      "Epoch 1300\n",
      "Training Cost: 0.04305272783839279------------Validation cost: 1.6757181018649456\n",
      "Training Accuracy: 0.9904306220095693\n",
      "Validation Accuracy: 0.66\n",
      "-----------------------------------------------------------\n",
      "Epoch 1400\n",
      "Training Cost: 0.0339023938438397------------Validation cost: 1.8294748484671601\n",
      "Training Accuracy: 0.9904306220095693\n",
      "Validation Accuracy: 0.64\n",
      "-----------------------------------------------------------\n",
      "Epoch 1500\n",
      "Training Cost: 0.024087121886642283------------Validation cost: 2.063391564814011\n",
      "Training Accuracy: 0.9952153110047847\n",
      "Validation Accuracy: 0.64\n",
      "-----------------------------------------------------------\n",
      "Epoch 1600\n",
      "Training Cost: 0.018548426698471433------------Validation cost: 2.2113042154200238\n",
      "Training Accuracy: 0.9952153110047847\n",
      "Validation Accuracy: 0.64\n",
      "-----------------------------------------------------------\n",
      "Epoch 1700\n",
      "Training Cost: 0.015558176163796336------------Validation cost: 2.341869123895259\n",
      "Training Accuracy: 0.9952153110047847\n",
      "Validation Accuracy: 0.64\n",
      "-----------------------------------------------------------\n",
      "Epoch 1800\n",
      "Training Cost: 0.013445903774381575------------Validation cost: 2.437716088019506\n",
      "Training Accuracy: 0.9952153110047847\n",
      "Validation Accuracy: 0.66\n",
      "-----------------------------------------------------------\n",
      "Epoch 1900\n",
      "Training Cost: 0.011775359958134888------------Validation cost: 2.504648549722649\n",
      "Training Accuracy: 0.9952153110047847\n",
      "Validation Accuracy: 0.66\n",
      "-----------------------------------------------------------\n",
      "Epoch 2000\n",
      "Training Cost: 0.010478342635425268------------Validation cost: 2.5890415737769614\n",
      "Training Accuracy: 0.9952153110047847\n",
      "Validation Accuracy: 0.66\n",
      "-----------------------------------------------------------\n",
      "Epoch 2100\n",
      "Training Cost: 0.009358025717295047------------Validation cost: 2.6696222704462587\n",
      "Training Accuracy: 0.9952153110047847\n",
      "Validation Accuracy: 0.66\n",
      "-----------------------------------------------------------\n",
      "Epoch 2200\n",
      "Training Cost: 0.006493173805957181------------Validation cost: 2.8008397021076945\n",
      "Training Accuracy: 1.0\n",
      "Validation Accuracy: 0.66\n",
      "-----------------------------------------------------------\n",
      "Epoch 2300\n",
      "Training Cost: 0.005087805956027587------------Validation cost: 2.898106997863761\n",
      "Training Accuracy: 1.0\n",
      "Validation Accuracy: 0.66\n",
      "-----------------------------------------------------------\n",
      "Epoch 2400\n",
      "Training Cost: 0.0041170947505224705------------Validation cost: 2.974740455081951\n",
      "Training Accuracy: 1.0\n",
      "Validation Accuracy: 0.68\n",
      "-----------------------------------------------------------\n",
      "Epoch 2500\n",
      "Training Cost: 0.003370870011735375------------Validation cost: 3.026996993172209\n",
      "Training Accuracy: 1.0\n",
      "Validation Accuracy: 0.68\n",
      "-----------------------------------------------------------\n",
      "Epoch 2600\n",
      "Training Cost: 0.002817264129391086------------Validation cost: 3.069247627548291\n",
      "Training Accuracy: 1.0\n",
      "Validation Accuracy: 0.66\n",
      "-----------------------------------------------------------\n",
      "Epoch 2700\n",
      "Training Cost: 0.0023960738539102896------------Validation cost: 3.1069619466180973\n",
      "Training Accuracy: 1.0\n",
      "Validation Accuracy: 0.66\n",
      "-----------------------------------------------------------\n",
      "Epoch 2800\n",
      "Training Cost: 0.0020695459720913275------------Validation cost: 3.1401110211814887\n",
      "Training Accuracy: 1.0\n",
      "Validation Accuracy: 0.68\n",
      "-----------------------------------------------------------\n",
      "Epoch 2900\n",
      "Training Cost: 0.0018097956526576984------------Validation cost: 3.1725452446685627\n",
      "Training Accuracy: 1.0\n",
      "Validation Accuracy: 0.68\n",
      "-----------------------------------------------------------\n",
      "Epoch 3000\n",
      "Training Cost: 0.0015985305172996438------------Validation cost: 3.20494344538179\n",
      "Training Accuracy: 1.0\n",
      "Validation Accuracy: 0.68\n",
      "-----------------------------------------------------------\n"
     ]
    }
   ],
   "source": [
    "#Model with different configuration\n",
    "dnn_2 = DeepNN(num_layers=5,units = [12288,20,7,5,1],activation_fns=['relu','relu','relu','sigmoid'])\n",
    "result_dict2 = dnn_2.train_NN(train_features,train_targets,3000,0.01,valid_features,valid_targets)"
   ]
  },
  {
   "cell_type": "markdown",
   "metadata": {},
   "source": [
    "The training accuracy tends to 100% but the validation accuracy is 68%. "
   ]
  },
  {
   "cell_type": "code",
   "execution_count": 9,
   "metadata": {
    "collapsed": false
   },
   "outputs": [
    {
     "data": {
      "image/png": "[encoded data removed]",
      "text/plain": [
       "<Figure size 720x360 with 1 Axes>"
      ]
     },
     "metadata": {},
     "output_type": "display_data"
    }
   ],
   "source": [
    "plt.figure(figsize=(10,5))\n",
    "plt.plot(range(3000),result_dict2['Training cost'])\n",
    "plt.xlabel(\"Iterations\")\n",
    "plt.ylabel(\"Training Cost\")\n",
    "plt.show()"
   ]
  },
  {
   "cell_type": "markdown",
   "metadata": {},
   "source": [
    "With proper yperparameter selection, we can improve the validation accuracy"
   ]
  }
 ],
 "metadata": {
  "anaconda-cloud": {},
  "kernelspec": {
   "display_name": "Python [conda env:Anaconda3]",
   "language": "python",
   "name": "conda-env-Anaconda3-py"
  },
  "language_info": {
   "codemirror_mode": {
    "name": "ipython",
    "version": 3
   },
   "file_extension": ".py",
   "mimetype": "text/x-python",
   "name": "python",
   "nbconvert_exporter": "python",
   "pygments_lexer": "ipython3",
   "version": "3.5.6"
  },
  "varInspector": {
   "cols": {
    "lenName": 16,
    "lenType": 16,
    "lenVar": 40
   },
   "kernels_config": {
    "python": {
     "delete_cmd_postfix": "",
     "delete_cmd_prefix": "del ",
     "library": "var_list.py",
     "varRefreshCmd": "print(var_dic_list())"
    },
    "r": {
     "delete_cmd_postfix": ") ",
     "delete_cmd_prefix": "rm(",
     "library": "var_list.r",
     "varRefreshCmd": "cat(var_dic_list()) "
    }
   },
   "types_to_exclude": [
    "module",
    "function",
    "builtin_function_or_method",
    "instance",
    "_Feature"
   ],
   "window_display": false
  }
 },
 "nbformat": 4,
 "nbformat_minor": 1
}
